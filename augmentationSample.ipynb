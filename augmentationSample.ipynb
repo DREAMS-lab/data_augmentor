{
 "cells": [
  {
   "cell_type": "markdown",
   "metadata": {},
   "source": [
    "# A Sample of Data Augmentation\n",
    "---\n",
    "Zhiang Chen, Nov 2018 @ DREAMS"
   ]
  },
  {
   "cell_type": "markdown",
   "metadata": {},
   "source": [
    "### 1. Generate Masks from XML\n",
    "- Download the xml annotations and original images from LabelMe\n",
    "- Create dataset folders under directory \"datasets\"  \n",
    "e.g. a tornado datasets\n",
    "```\n",
    "--data_augmentator\n",
    "|--datasets  \n",
    "    |--rocks\n",
    "        |--annotation: rocks1.xml, rocks2.xml, ...\n",
    "        |--image: rocks1.jpg, rocks2.jpg, ...\n",
    "```\n",
    "- Genrate masks from XML files"
   ]
  },
  {
   "cell_type": "code",
   "execution_count": 4,
   "metadata": {
    "scrolled": false
   },
   "outputs": [
    {
     "name": "stderr",
     "output_type": "stream",
     "text": [
      "177it [00:01, 158.58it/s]\n"
     ]
    }
   ],
   "source": [
    "from xml2mask import polygonReader\n",
    "objects = ['drone'] # give a list of the annotated objects\n",
    "pr = polygonReader(\"drone\", objects)\n",
    "\n",
    "#save compact masks on .jpg files\n",
    "#pr.saveMask(dim=(4000,4000))\n",
    "\n",
    "#generate and save multi-channel images on .npy files\n",
    "pr.generateMask2(dim=(1024, 768), resize=(768, 1024), saveOnline=True) "
   ]
  },
  {
   "cell_type": "markdown",
   "metadata": {},
   "source": [
    "### 2. Augment data\n",
    "Before running the script, create a folder and move .npy files into the folder. And create a folder for augmentation data.\n",
    "```\n",
    "--data_augmentator\n",
    "|--datasets\n",
    "    |--rocks\n",
    "        |--annotation: rocks1.xml, rocks2.xml, ...\n",
    "        |--image: rocks1.jpg, rocks2.jpg, ...\n",
    "        |--npy: rocks1.npy, rocks2.npy, ...\n",
    "        |--aug: augmentation data\n",
    "```\n",
    "Resize the data before augmentation."
   ]
  },
  {
   "cell_type": "code",
   "execution_count": 5,
   "metadata": {},
   "outputs": [],
   "source": [
    "from augmentation import augmentor\n",
    "import numpy as np\n",
    "from tqdm import tqdm\n",
    "import cv2\n",
    "import uuid"
   ]
  },
  {
   "cell_type": "code",
   "execution_count": 6,
   "metadata": {
    "scrolled": false
   },
   "outputs": [
    {
     "name": "stderr",
     "output_type": "stream",
     "text": [
      "81it [00:04, 18.98it/s]"
     ]
    },
    {
     "name": "stdout",
     "output_type": "stream",
     "text": [
      "Cannot find the corresponding anntation file for img_20190510_141453868.jpg\n"
     ]
    },
    {
     "name": "stderr",
     "output_type": "stream",
     "text": [
      "145it [00:07, 19.35it/s]"
     ]
    },
    {
     "name": "stdout",
     "output_type": "stream",
     "text": [
      "Cannot find the corresponding anntation file for img_20190510_141308535.jpg\n"
     ]
    },
    {
     "name": "stderr",
     "output_type": "stream",
     "text": [
      "246it [00:12, 18.77it/s]"
     ]
    },
    {
     "name": "stdout",
     "output_type": "stream",
     "text": [
      "Cannot find the corresponding anntation file for img_20190510_141453868.jpg\n"
     ]
    },
    {
     "name": "stderr",
     "output_type": "stream",
     "text": [
      "308it [00:16, 19.77it/s]"
     ]
    },
    {
     "name": "stdout",
     "output_type": "stream",
     "text": [
      "Cannot find the corresponding anntation file for img_20190510_141308535.jpg\n"
     ]
    },
    {
     "name": "stderr",
     "output_type": "stream",
     "text": [
      "409it [00:21, 19.60it/s]"
     ]
    },
    {
     "name": "stdout",
     "output_type": "stream",
     "text": [
      "Cannot find the corresponding anntation file for img_20190510_141453868.jpg\n"
     ]
    },
    {
     "name": "stderr",
     "output_type": "stream",
     "text": [
      "474it [00:24, 16.93it/s]"
     ]
    },
    {
     "name": "stdout",
     "output_type": "stream",
     "text": [
      "Cannot find the corresponding anntation file for img_20190510_141308535.jpg\n"
     ]
    },
    {
     "name": "stderr",
     "output_type": "stream",
     "text": [
      "572it [00:29, 21.06it/s]"
     ]
    },
    {
     "name": "stdout",
     "output_type": "stream",
     "text": [
      "Cannot find the corresponding anntation file for img_20190510_141453868.jpg\n"
     ]
    },
    {
     "name": "stderr",
     "output_type": "stream",
     "text": [
      "637it [00:33, 20.14it/s]"
     ]
    },
    {
     "name": "stdout",
     "output_type": "stream",
     "text": [
      "Cannot find the corresponding anntation file for img_20190510_141308535.jpg\n"
     ]
    },
    {
     "name": "stderr",
     "output_type": "stream",
     "text": [
      "737it [00:38, 17.48it/s]"
     ]
    },
    {
     "name": "stdout",
     "output_type": "stream",
     "text": [
      "Cannot find the corresponding anntation file for img_20190510_141453868.jpg\n"
     ]
    },
    {
     "name": "stderr",
     "output_type": "stream",
     "text": [
      "801it [00:41, 22.17it/s]"
     ]
    },
    {
     "name": "stdout",
     "output_type": "stream",
     "text": [
      "Cannot find the corresponding anntation file for img_20190510_141308535.jpg\n"
     ]
    },
    {
     "name": "stderr",
     "output_type": "stream",
     "text": [
      "902it [00:46, 23.66it/s]"
     ]
    },
    {
     "name": "stdout",
     "output_type": "stream",
     "text": [
      "Cannot find the corresponding anntation file for img_20190510_141453868.jpg\n"
     ]
    },
    {
     "name": "stderr",
     "output_type": "stream",
     "text": [
      "967it [00:50, 20.99it/s]"
     ]
    },
    {
     "name": "stdout",
     "output_type": "stream",
     "text": [
      "Cannot find the corresponding anntation file for img_20190510_141308535.jpg\n"
     ]
    },
    {
     "name": "stderr",
     "output_type": "stream",
     "text": [
      "1068it [00:55, 22.13it/s]"
     ]
    },
    {
     "name": "stdout",
     "output_type": "stream",
     "text": [
      "Cannot find the corresponding anntation file for img_20190510_141453868.jpg\n"
     ]
    },
    {
     "name": "stderr",
     "output_type": "stream",
     "text": [
      "1129it [00:58, 21.89it/s]"
     ]
    },
    {
     "name": "stdout",
     "output_type": "stream",
     "text": [
      "Cannot find the corresponding anntation file for img_20190510_141308535.jpg\n"
     ]
    },
    {
     "name": "stderr",
     "output_type": "stream",
     "text": [
      "1228it [01:03, 22.07it/s]"
     ]
    },
    {
     "name": "stdout",
     "output_type": "stream",
     "text": [
      "Cannot find the corresponding anntation file for img_20190510_141453868.jpg\n"
     ]
    },
    {
     "name": "stderr",
     "output_type": "stream",
     "text": [
      "1295it [01:07, 20.83it/s]"
     ]
    },
    {
     "name": "stdout",
     "output_type": "stream",
     "text": [
      "Cannot find the corresponding anntation file for img_20190510_141308535.jpg\n"
     ]
    },
    {
     "name": "stderr",
     "output_type": "stream",
     "text": [
      "1393it [01:12, 19.71it/s]"
     ]
    },
    {
     "name": "stdout",
     "output_type": "stream",
     "text": [
      "Cannot find the corresponding anntation file for img_20190510_141453868.jpg\n"
     ]
    },
    {
     "name": "stderr",
     "output_type": "stream",
     "text": [
      "1456it [01:16, 15.71it/s]"
     ]
    },
    {
     "name": "stdout",
     "output_type": "stream",
     "text": [
      "Cannot find the corresponding anntation file for img_20190510_141308535.jpg\n"
     ]
    },
    {
     "name": "stderr",
     "output_type": "stream",
     "text": [
      "1558it [01:21, 18.58it/s]"
     ]
    },
    {
     "name": "stdout",
     "output_type": "stream",
     "text": [
      "Cannot find the corresponding anntation file for img_20190510_141453868.jpg\n"
     ]
    },
    {
     "name": "stderr",
     "output_type": "stream",
     "text": [
      "1622it [01:24, 20.63it/s]"
     ]
    },
    {
     "name": "stdout",
     "output_type": "stream",
     "text": [
      "Cannot find the corresponding anntation file for img_20190510_141308535.jpg\n"
     ]
    },
    {
     "name": "stderr",
     "output_type": "stream",
     "text": [
      "1640it [01:25, 19.34it/s]\n"
     ]
    }
   ],
   "source": [
    "config = dict(\n",
    "            mode=2, \n",
    "            resize_dim=(768, 1024),\n",
    "            batch_number=10,\n",
    "            rotation_min=-90,\n",
    "            rotation_max=90,\n",
    "            fliplr=True,\n",
    "            flipud=True,\n",
    "            zoom_min=0.8,\n",
    "            zoom_max=1.2)\n",
    "\n",
    "image_path = './datasets/drone/image/'\n",
    "annotation_path = './datasets/drone/npy/'\n",
    "aug_path = './datasets/drone/aug/'\n",
    "aug = augmentor(image_path, annotation_path, **config)\n",
    "\n",
    "for i,m,f in tqdm(aug):\n",
    "    unid = uuid.uuid4().hex\n",
    "    img_name = aug_path + f + \"_\" + unid + '.jpg'\n",
    "    ann_name = aug_path + f + \"_\" + unid + '.npy'\n",
    "    cv2.imwrite(img_name, i)\n",
    "    np.save(ann_name, m)"
   ]
  },
  {
   "cell_type": "markdown",
   "metadata": {},
   "source": [
    "### 3. Rename images and annotations by numerical order"
   ]
  },
  {
   "cell_type": "markdown",
   "metadata": {},
   "source": [
    "It is recommended to back up the data before renaming."
   ]
  },
  {
   "cell_type": "code",
   "execution_count": 2,
   "metadata": {},
   "outputs": [],
   "source": [
    "from rename import renamer\n",
    "rn = renamer('./datasets/rocks/image/', './datasets/rocks/annotation/')"
   ]
  },
  {
   "cell_type": "code",
   "execution_count": 3,
   "metadata": {},
   "outputs": [],
   "source": [
    "rn.rename(mode=1, image2png=True, annotation_suffix='.npy', annotation2suffix='.npy')"
   ]
  },
  {
   "cell_type": "markdown",
   "metadata": {},
   "source": [
    "Alright, data augmentation done."
   ]
  }
 ],
 "metadata": {
  "kernelspec": {
   "display_name": "Python 2",
   "language": "python",
   "name": "python2"
  },
  "language_info": {
   "codemirror_mode": {
    "name": "ipython",
    "version": 2
   },
   "file_extension": ".py",
   "mimetype": "text/x-python",
   "name": "python",
   "nbconvert_exporter": "python",
   "pygments_lexer": "ipython2",
   "version": "2.7.12"
  }
 },
 "nbformat": 4,
 "nbformat_minor": 2
}
