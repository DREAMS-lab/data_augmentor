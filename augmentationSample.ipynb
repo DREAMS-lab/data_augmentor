{
 "cells": [
  {
   "cell_type": "markdown",
   "metadata": {},
   "source": [
    "# A Sample of Data Augmentation\n",
    "---\n",
    "Zhiang Chen, Nov 2018 @ DREAMS"
   ]
  },
  {
   "cell_type": "markdown",
   "metadata": {},
   "source": [
    "### 1. Generate Masks from XML\n",
    "- Download the xml annotations and original images from LabelMe\n",
    "- Create dataset folders under directory \"datasets\"  \n",
    "e.g. a tornado datasets\n",
    "```\n",
    "--data_augmentator\n",
    "|--datasets\n",
    "  |--tornado\n",
    "    |--annotation: tornado1.xml, tornado2.xml, ...\n",
    "    |--image: tornado1.jpg, tornado2.jpg, ...\n",
    "```\n",
    "- Genrate masks from XML files"
   ]
  },
  {
   "cell_type": "code",
   "execution_count": 1,
   "metadata": {},
   "outputs": [
    {
     "name": "stderr",
     "output_type": "stream",
     "text": [
      "260it [18:15,  3.92s/it]\n"
     ]
    }
   ],
   "source": [
    "from xml2mask import polygonReader\n",
    "objects = ['ndr', 'dr'] # give a list of the annotated objects\n",
    "pr = polygonReader(\"tornado\", objects)\n",
    "\n",
    "#save compact masks on .jpg files\n",
    "#pr.saveMask(dim=(4000,4000))\n",
    "\n",
    "#generate and save multi-channel images on .npy files\n",
    "pr.generateMask2(dim=(4000, 4000), resize=(4000, 4000), saveOnline=True) "
   ]
  },
  {
   "cell_type": "markdown",
   "metadata": {},
   "source": [
    "### 2. Augment data\n",
    "Before running the script, create a folder and move .npy files into the folder. And create a folder for augmentation data.\n",
    "```\n",
    "--data_augmentator\n",
    "|--datasets\n",
    "  |--tornado\n",
    "    |--annotation: tornado1.xml, tornado2.xml, ...\n",
    "    |--image: tornado1.jpg, tornado2.jpg, ...\n",
    "    |--npy: tornado1.npy, tornado2.npy, ...\n",
    "    |--aug: augmentation data\n",
    "```\n",
    "Resize the data before augmentation."
   ]
  },
  {
   "cell_type": "code",
   "execution_count": 2,
   "metadata": {},
   "outputs": [],
   "source": [
    "from augmentation import augmentor\n",
    "import numpy as np\n",
    "from tqdm import tqdm\n",
    "import cv2\n",
    "import uuid"
   ]
  },
  {
   "cell_type": "code",
   "execution_count": 5,
   "metadata": {},
   "outputs": [
    {
     "name": "stderr",
     "output_type": "stream",
     "text": [
      "520it [45:04,  4.03s/it]\n"
     ]
    }
   ],
   "source": [
    "config = dict(\n",
    "            mode=2, \n",
    "            resize_dim=(800,800),\n",
    "            batch_number=2,\n",
    "            rotation_min=-90,\n",
    "            rotation_max=90,\n",
    "            fliplr=True,\n",
    "            flipud=True,\n",
    "            zoom_min=0.8,\n",
    "            zoom_max=1.2)\n",
    "\n",
    "image_path = './datasets/tornado/image/'\n",
    "annotation_path = './datasets/tornado/npy/'\n",
    "aug_path = './datasets/tornado/aug/'\n",
    "aug = augmentor(image_path, annotation_path, **config)\n",
    "\n",
    "for i,m,f in tqdm(aug):\n",
    "    unid = uuid.uuid4().hex\n",
    "    img_name = aug_path + f + unid + '.jpg'\n",
    "    ann_name = aug_path + f + unid + '.npy'\n",
    "    cv2.imwrite(img_name, i)\n",
    "    np.save(ann_name, m)"
   ]
  },
  {
   "cell_type": "markdown",
   "metadata": {},
   "source": [
    "### 3. Rename images and annotations by numerical order"
   ]
  },
  {
   "cell_type": "markdown",
   "metadata": {},
   "source": [
    "It is recommended to back up the data before renaming."
   ]
  },
  {
   "cell_type": "code",
   "execution_count": 6,
   "metadata": {},
   "outputs": [],
   "source": [
    "from rename import renamer\n",
    "rn = renamer('./datasets/tornado/img/', './datasets/tornado/ann/')"
   ]
  },
  {
   "cell_type": "code",
   "execution_count": 7,
   "metadata": {},
   "outputs": [],
   "source": [
    "rn.rename(mode=1, image2png=True, annotation_suffix='.npy', annotation2suffix='.npy')"
   ]
  },
  {
   "cell_type": "markdown",
   "metadata": {},
   "source": [
    "Alright, data augmentation done."
   ]
  }
 ],
 "metadata": {
  "kernelspec": {
   "display_name": "Python 2",
   "language": "python",
   "name": "python2"
  },
  "language_info": {
   "codemirror_mode": {
    "name": "ipython",
    "version": 2
   },
   "file_extension": ".py",
   "mimetype": "text/x-python",
   "name": "python",
   "nbconvert_exporter": "python",
   "pygments_lexer": "ipython2",
   "version": "2.7.15rc1"
  }
 },
 "nbformat": 4,
 "nbformat_minor": 2
}
