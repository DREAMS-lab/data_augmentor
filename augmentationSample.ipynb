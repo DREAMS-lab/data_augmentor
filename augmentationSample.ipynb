{
 "cells": [
  {
   "cell_type": "markdown",
   "metadata": {},
   "source": [
    "# A Sample of Data Augmentation\n",
    "---\n",
    "Zhiang Chen, Nov 2018 @ DREAMS"
   ]
  },
  {
   "cell_type": "markdown",
   "metadata": {},
   "source": [
    "### 1. Generate Masks from XML\n",
    "- Download the xml annotations and original images from LabelMe\n",
    "- Create dataset folders under directory \"datasets\"  \n",
    "e.g. a tornado datasets\n",
    "```\n",
    "--data_augmentator\n",
    "|--datasets  \n",
    "    |--rocks\n",
    "        |--annotation: rocks1.xml, rocks2.xml, ...\n",
    "        |--image: rocks1.jpg, rocks2.jpg, ...\n",
    "```\n",
    "- Genrate masks from XML files"
   ]
  },
  {
   "cell_type": "code",
   "execution_count": 4,
   "metadata": {
    "scrolled": false
   },
   "outputs": [
    {
     "name": "stderr",
     "output_type": "stream",
     "text": [
      "177it [00:01, 158.58it/s]\n"
     ]
    }
   ],
   "source": [
    "from xml2mask import polygonReader\n",
    "objects = ['drone'] # give a list of the annotated objects\n",
    "pr = polygonReader(\"drone\", objects)\n",
    "\n",
    "#save compact masks on .jpg files\n",
    "#pr.saveMask(dim=(4000,4000))\n",
    "\n",
    "#generate and save multi-channel images on .npy files\n",
    "pr.generateMask2(dim=(1024, 768), resize=(768, 1024), saveOnline=True) "
   ]
  },
  {
   "cell_type": "markdown",
   "metadata": {},
   "source": [
    "### 2. Augment data\n",
    "Before running the script, create a folder and move .npy files into the folder. And create a folder for augmentation data.\n",
    "```\n",
    "--data_augmentator\n",
    "|--datasets\n",
    "    |--rocks\n",
    "        |--annotation: rocks1.xml, rocks2.xml, ...\n",
    "        |--image: rocks1.jpg, rocks2.jpg, ...\n",
    "        |--npy: rocks1.npy, rocks2.npy, ...\n",
    "        |--aug: augmentation data\n",
    "```\n",
    "Resize the data before augmentation."
   ]
  },
  {
   "cell_type": "code",
   "execution_count": 1,
   "metadata": {},
   "outputs": [],
   "source": [
    "from augmentation import augmentor\n",
    "import numpy as np\n",
    "from tqdm import tqdm\n",
    "import cv2\n",
    "import uuid"
   ]
  },
  {
   "cell_type": "code",
   "execution_count": 2,
   "metadata": {
    "scrolled": false
   },
   "outputs": [
    {
     "name": "stderr",
     "output_type": "stream",
     "text": [
      "25it [00:03,  6.73it/s]"
     ]
    },
    {
     "name": "stdout",
     "output_type": "stream",
     "text": [
      "Cannot find the corresponding anntation file for Eureka_103_32000_32000.jpg\n"
     ]
    },
    {
     "name": "stderr",
     "output_type": "stream",
     "text": [
      "784it [01:53, 11.78it/s]"
     ]
    },
    {
     "name": "stdout",
     "output_type": "stream",
     "text": [
      "Cannot find the corresponding anntation file for Eureka_103_32000_32000.jpg\n"
     ]
    },
    {
     "name": "stderr",
     "output_type": "stream",
     "text": [
      "1541it [03:05, 10.31it/s]"
     ]
    },
    {
     "name": "stdout",
     "output_type": "stream",
     "text": [
      "Cannot find the corresponding anntation file for Eureka_103_32000_32000.jpg\n"
     ]
    },
    {
     "name": "stderr",
     "output_type": "stream",
     "text": [
      "2299it [04:18, 10.11it/s]"
     ]
    },
    {
     "name": "stdout",
     "output_type": "stream",
     "text": [
      "Cannot find the corresponding anntation file for Eureka_103_32000_32000.jpg\n"
     ]
    },
    {
     "name": "stderr",
     "output_type": "stream",
     "text": [
      "3057it [05:30, 12.04it/s]"
     ]
    },
    {
     "name": "stdout",
     "output_type": "stream",
     "text": [
      "Cannot find the corresponding anntation file for Eureka_103_32000_32000.jpg\n"
     ]
    },
    {
     "name": "stderr",
     "output_type": "stream",
     "text": [
      "3815it [06:44, 12.84it/s]"
     ]
    },
    {
     "name": "stdout",
     "output_type": "stream",
     "text": [
      "Cannot find the corresponding anntation file for Eureka_103_32000_32000.jpg\n"
     ]
    },
    {
     "name": "stderr",
     "output_type": "stream",
     "text": [
      "4574it [08:00, 11.71it/s]"
     ]
    },
    {
     "name": "stdout",
     "output_type": "stream",
     "text": [
      "Cannot find the corresponding anntation file for Eureka_103_32000_32000.jpg\n"
     ]
    },
    {
     "name": "stderr",
     "output_type": "stream",
     "text": [
      "5332it [09:13, 12.80it/s]"
     ]
    },
    {
     "name": "stdout",
     "output_type": "stream",
     "text": [
      "Cannot find the corresponding anntation file for Eureka_103_32000_32000.jpg\n"
     ]
    },
    {
     "name": "stderr",
     "output_type": "stream",
     "text": [
      "6089it [10:27, 11.96it/s]"
     ]
    },
    {
     "name": "stdout",
     "output_type": "stream",
     "text": [
      "Cannot find the corresponding anntation file for Eureka_103_32000_32000.jpg\n"
     ]
    },
    {
     "name": "stderr",
     "output_type": "stream",
     "text": [
      "6847it [11:42, 11.91it/s]"
     ]
    },
    {
     "name": "stdout",
     "output_type": "stream",
     "text": [
      "Cannot find the corresponding anntation file for Eureka_103_32000_32000.jpg\n"
     ]
    },
    {
     "name": "stderr",
     "output_type": "stream",
     "text": [
      "7580it [12:55,  9.77it/s]\n"
     ]
    }
   ],
   "source": [
    "config = dict(\n",
    "            mode=2, \n",
    "            resize_dim=(1000, 1000),\n",
    "            batch_number=10,\n",
    "            rotation_min=-90,\n",
    "            rotation_max=90,\n",
    "            fliplr=True,\n",
    "            flipud=True,\n",
    "            zoom_min=0.8,\n",
    "            zoom_max=1.2)\n",
    "\n",
    "image_path = './datasets/Eureka_aug/image/'\n",
    "annotation_path = './datasets/Eureka_aug/npy/'\n",
    "aug_path = './datasets/Eureka_aug/aug/'\n",
    "aug = augmentor(image_path, annotation_path, **config)\n",
    "\n",
    "for i,m,f in tqdm(aug):\n",
    "    unid = uuid.uuid4().hex\n",
    "    img_name = aug_path + f + \"_\" + unid + '.jpg'\n",
    "    ann_name = aug_path + f + \"_\" + unid + '.npy'\n",
    "    cv2.imwrite(img_name, i)\n",
    "    np.save(ann_name, m)"
   ]
  },
  {
   "cell_type": "code",
   "execution_count": null,
   "metadata": {},
   "outputs": [],
   "source": [
    "config = dict(\n",
    "            mode=2, \n",
    "            resize_dim=(1000, 1000),\n",
    "            batch_number=10,\n",
    "            rotation_min=-90,\n",
    "            rotation_max=90,\n",
    "            fliplr=True,\n",
    "            flipud=True,\n",
    "            zoom_min=0.8,\n",
    "            zoom_max=1.2)\n",
    "\n",
    "image_path = './datasets/drone/image/'\n",
    "annotation_path = './datasets/drone/npy/'\n",
    "aug_path = './datasets/drone/aug/'\n",
    "aug = augmentor(image_path, annotation_path, **config)\n",
    "\n",
    "for i,m,f in tqdm(aug):\n",
    "    unid = uuid.uuid4().hex\n",
    "    img_name = aug_path + f + \"_\" + unid + '.jpg'\n",
    "    ann_name = aug_path + f + \"_\" + unid + '.npy'\n",
    "    cv2.imwrite(img_name, i)\n",
    "    np.save(ann_name, m)"
   ]
  },
  {
   "cell_type": "markdown",
   "metadata": {},
   "source": [
    "### 3. Rename images and annotations by numerical order"
   ]
  },
  {
   "cell_type": "markdown",
   "metadata": {},
   "source": [
    "It is recommended to back up the data before renaming."
   ]
  },
  {
   "cell_type": "code",
   "execution_count": 2,
   "metadata": {},
   "outputs": [],
   "source": [
    "from rename import renamer\n",
    "rn = renamer('./datasets/rocks/image/', './datasets/rocks/annotation/')"
   ]
  },
  {
   "cell_type": "code",
   "execution_count": 3,
   "metadata": {},
   "outputs": [],
   "source": [
    "rn.rename(mode=1, image2png=True, annotation_suffix='.npy', annotation2suffix='.npy')"
   ]
  },
  {
   "cell_type": "markdown",
   "metadata": {},
   "source": [
    "Alright, data augmentation done."
   ]
  }
 ],
 "metadata": {
  "kernelspec": {
   "display_name": "Python 2",
   "language": "python",
   "name": "python2"
  },
  "language_info": {
   "codemirror_mode": {
    "name": "ipython",
    "version": 2
   },
   "file_extension": ".py",
   "mimetype": "text/x-python",
   "name": "python",
   "nbconvert_exporter": "python",
   "pygments_lexer": "ipython2",
   "version": "2.7.12"
  }
 },
 "nbformat": 4,
 "nbformat_minor": 2
}
